{
 "cells": [
  {
   "cell_type": "code",
   "execution_count": 8,
   "metadata": {},
   "outputs": [
    {
     "ename": "ValueError",
     "evalue": "Cell range CS86:CS95 is not merged",
     "output_type": "error",
     "traceback": [
      "\u001b[1;31m---------------------------------------------------------------------------\u001b[0m",
      "\u001b[1;31mValueError\u001b[0m                                Traceback (most recent call last)",
      "Cell \u001b[1;32mIn[8], line 62\u001b[0m\n\u001b[0;32m     59\u001b[0m \u001b[38;5;28minput\u001b[39m \u001b[38;5;241m=\u001b[39m \u001b[38;5;124mr\u001b[39m\u001b[38;5;124m'\u001b[39m\u001b[38;5;124mD:\u001b[39m\u001b[38;5;124m\\\u001b[39m\u001b[38;5;124mFinally, A study Folder\u001b[39m\u001b[38;5;124m\\\u001b[39m\u001b[38;5;124mACM\u001b[39m\u001b[38;5;124m\\\u001b[39m\u001b[38;5;124mProjectathon 2024\u001b[39m\u001b[38;5;124m\\\u001b[39m\u001b[38;5;124mAcademicAlly\u001b[39m\u001b[38;5;124m\\\u001b[39m\u001b[38;5;124mdata\u001b[39m\u001b[38;5;124m\\\u001b[39m\u001b[38;5;124mTIMETABLEJANMAY2024.xlsx\u001b[39m\u001b[38;5;124m'\u001b[39m\n\u001b[0;32m     60\u001b[0m output \u001b[38;5;241m=\u001b[39m \u001b[38;5;124mr\u001b[39m\u001b[38;5;124m'\u001b[39m\u001b[38;5;124mD:\u001b[39m\u001b[38;5;124m\\\u001b[39m\u001b[38;5;124mFinally, A study Folder\u001b[39m\u001b[38;5;124m\\\u001b[39m\u001b[38;5;124mACM\u001b[39m\u001b[38;5;124m\\\u001b[39m\u001b[38;5;124mProjectathon 2024\u001b[39m\u001b[38;5;124m\\\u001b[39m\u001b[38;5;124mAcademicAlly\u001b[39m\u001b[38;5;124m\\\u001b[39m\u001b[38;5;124mdata\u001b[39m\u001b[38;5;124m\\\u001b[39m\u001b[38;5;124mprocessedTimetable.xlsx\u001b[39m\u001b[38;5;124m'\u001b[39m\n\u001b[1;32m---> 62\u001b[0m \u001b[43mCopyAndProcessExcelFile\u001b[49m\u001b[43m(\u001b[49m\u001b[38;5;28;43minput\u001b[39;49m\u001b[43m)\u001b[49m\n",
      "Cell \u001b[1;32mIn[8], line 47\u001b[0m, in \u001b[0;36mCopyAndProcessExcelFile\u001b[1;34m(filename)\u001b[0m\n\u001b[0;32m     44\u001b[0m             newSheet[cell\u001b[38;5;241m.\u001b[39mcoordinate]\u001b[38;5;241m.\u001b[39mvalue \u001b[38;5;241m=\u001b[39m cell\u001b[38;5;241m.\u001b[39mvalue\n\u001b[0;32m     46\u001b[0m     filteredRanges \u001b[38;5;241m=\u001b[39m FilterMergedRanges(sheet, minRow \u001b[38;5;241m=\u001b[39m \u001b[38;5;241m4\u001b[39m, minColumn \u001b[38;5;241m=\u001b[39m \u001b[38;5;241m3\u001b[39m)\n\u001b[1;32m---> 47\u001b[0m     \u001b[43mFillMergedCells\u001b[49m\u001b[43m(\u001b[49m\u001b[43mnewSheet\u001b[49m\u001b[43m,\u001b[49m\u001b[43m \u001b[49m\u001b[43mfilteredRanges\u001b[49m\u001b[43m)\u001b[49m\n\u001b[0;32m     52\u001b[0m newWb\u001b[38;5;241m.\u001b[39msave(output)\n\u001b[0;32m     53\u001b[0m \u001b[38;5;28mprint\u001b[39m(\u001b[38;5;124mf\u001b[39m\u001b[38;5;124m\"\u001b[39m\u001b[38;5;124mProcessed file saved successfully at \u001b[39m\u001b[38;5;132;01m{\u001b[39;00moutput\u001b[38;5;132;01m}\u001b[39;00m\u001b[38;5;124m\"\u001b[39m)\n",
      "Cell \u001b[1;32mIn[8], line 23\u001b[0m, in \u001b[0;36mFillMergedCells\u001b[1;34m(sheet, mergedRanges)\u001b[0m\n\u001b[0;32m     20\u001b[0m minRangeRow, minRangeColumn, maxRangeRow, maxRangeColumn \u001b[38;5;241m=\u001b[39m mergedRange\u001b[38;5;241m.\u001b[39mbounds\n\u001b[0;32m     21\u001b[0m firstCellValue \u001b[38;5;241m=\u001b[39m sheet\u001b[38;5;241m.\u001b[39mcell(row \u001b[38;5;241m=\u001b[39m minRangeRow, column \u001b[38;5;241m=\u001b[39m minRangeColumn)\u001b[38;5;241m.\u001b[39mvalue\n\u001b[1;32m---> 23\u001b[0m \u001b[43msheet\u001b[49m\u001b[38;5;241;43m.\u001b[39;49m\u001b[43munmerge_cells\u001b[49m\u001b[43m(\u001b[49m\u001b[43mstart_row\u001b[49m\u001b[43m \u001b[49m\u001b[38;5;241;43m=\u001b[39;49m\u001b[43m \u001b[49m\u001b[43mminRangeRow\u001b[49m\u001b[43m,\u001b[49m\u001b[43m \u001b[49m\u001b[43mstart_column\u001b[49m\u001b[43m \u001b[49m\u001b[38;5;241;43m=\u001b[39;49m\u001b[43m \u001b[49m\u001b[43mminRangeColumn\u001b[49m\u001b[43m,\u001b[49m\u001b[43m \u001b[49m\u001b[43mend_row\u001b[49m\u001b[43m \u001b[49m\u001b[38;5;241;43m=\u001b[39;49m\u001b[43m \u001b[49m\u001b[43mmaxRangeRow\u001b[49m\u001b[43m,\u001b[49m\u001b[43m \u001b[49m\u001b[43mend_column\u001b[49m\u001b[43m \u001b[49m\u001b[38;5;241;43m=\u001b[39;49m\u001b[43m \u001b[49m\u001b[43mmaxRangeColumn\u001b[49m\u001b[43m)\u001b[49m\n\u001b[0;32m     25\u001b[0m \u001b[38;5;28;01mfor\u001b[39;00m row \u001b[38;5;129;01min\u001b[39;00m \u001b[38;5;28mrange\u001b[39m(minRangeRow, maxRangeRow \u001b[38;5;241m+\u001b[39m \u001b[38;5;241m1\u001b[39m):\n\u001b[0;32m     26\u001b[0m     \u001b[38;5;28;01mfor\u001b[39;00m column \u001b[38;5;129;01min\u001b[39;00m \u001b[38;5;28mrange\u001b[39m(minRangeColumn, maxRangeColumn \u001b[38;5;241m+\u001b[39m \u001b[38;5;241m1\u001b[39m):\n",
      "File \u001b[1;32md:\\Finally, A study Folder\\ACM\\Projectathon 2024\\AcademicAlly\\venv\\Lib\\site-packages\\openpyxl\\worksheet\\worksheet.py:631\u001b[0m, in \u001b[0;36mWorksheet.unmerge_cells\u001b[1;34m(self, range_string, start_row, start_column, end_row, end_column)\u001b[0m\n\u001b[0;32m    627\u001b[0m cr \u001b[38;5;241m=\u001b[39m CellRange(range_string\u001b[38;5;241m=\u001b[39mrange_string, min_col\u001b[38;5;241m=\u001b[39mstart_column, min_row\u001b[38;5;241m=\u001b[39mstart_row,\n\u001b[0;32m    628\u001b[0m               max_col\u001b[38;5;241m=\u001b[39mend_column, max_row\u001b[38;5;241m=\u001b[39mend_row)\n\u001b[0;32m    630\u001b[0m \u001b[38;5;28;01mif\u001b[39;00m cr\u001b[38;5;241m.\u001b[39mcoord \u001b[38;5;129;01mnot\u001b[39;00m \u001b[38;5;129;01min\u001b[39;00m \u001b[38;5;28mself\u001b[39m\u001b[38;5;241m.\u001b[39mmerged_cells:\n\u001b[1;32m--> 631\u001b[0m     \u001b[38;5;28;01mraise\u001b[39;00m \u001b[38;5;167;01mValueError\u001b[39;00m(\u001b[38;5;124m\"\u001b[39m\u001b[38;5;124mCell range \u001b[39m\u001b[38;5;132;01m{0}\u001b[39;00m\u001b[38;5;124m is not merged\u001b[39m\u001b[38;5;124m\"\u001b[39m\u001b[38;5;241m.\u001b[39mformat(cr\u001b[38;5;241m.\u001b[39mcoord))\n\u001b[0;32m    633\u001b[0m \u001b[38;5;28mself\u001b[39m\u001b[38;5;241m.\u001b[39mmerged_cells\u001b[38;5;241m.\u001b[39mremove(cr)\n\u001b[0;32m    635\u001b[0m cells \u001b[38;5;241m=\u001b[39m cr\u001b[38;5;241m.\u001b[39mcells\n",
      "\u001b[1;31mValueError\u001b[0m: Cell range CS86:CS95 is not merged"
     ]
    }
   ],
   "source": [
    "import openpyxl\n",
    "\n",
    "def FilterMergedRanges(sheet, minRow, minColumn):\n",
    "    filteredRanges = []\n",
    "    for mergedRange in sheet.merged_cells.ranges:\n",
    "        \n",
    "        minRangeRow, minRangeColumn, maxRangeRow, maxRangeColumn = mergedRange.bounds\n",
    "        #print(f\"minRangeRow: {minRangeRow}, minRangeColumn: {minRangeColumn}, maxRangeRow: {maxRangeRow}, maxRangeColumn: {maxRangeColumn}\")    \n",
    "        if minRangeRow >= minRow and minRangeColumn >= minColumn:\n",
    "            if sheet.merged_cells.contains(mergedRange):\n",
    "                if (maxRangeColumn - minRangeColumn + 1) > 2 or (maxRangeRow - minRangeRow + 1) > 2:\n",
    "                    \n",
    "                    filteredRanges.append(mergedRange)\n",
    "\n",
    "\n",
    "    return filteredRanges\n",
    "\n",
    "def FillMergedCells(sheet, mergedRanges):\n",
    "    for mergedRange in mergedRanges:\n",
    "        minRangeRow, minRangeColumn, maxRangeRow, maxRangeColumn = mergedRange.bounds\n",
    "        firstCellValue = sheet.cell(row = minRangeRow, column = minRangeColumn).value\n",
    "        \n",
    "        sheet.unmerge_cells(start_row = minRangeRow, start_column = minRangeColumn, end_row = maxRangeRow, end_column = maxRangeColumn)\n",
    "\n",
    "        for row in range(minRangeRow, maxRangeRow + 1):\n",
    "            for column in range(minRangeColumn, maxRangeColumn + 1):\n",
    "                cell = sheet.cell(row = row, column = column)\n",
    "                cell.value = firstCellValue\n",
    "\n",
    "def CopyAndProcessExcelFile(filename):\n",
    "    wb = openpyxl.load_workbook(filename, data_only = True)\n",
    "\n",
    "    newWb = openpyxl.Workbook()\n",
    "\n",
    "    if 'Sheet' in newWb.sheetnames:\n",
    "        del newWb['Sheet']\n",
    "\n",
    "    for sheetName in wb.sheetnames:\n",
    "        sheet = wb[sheetName]\n",
    "        newSheet = newWb.create_sheet(title = sheetName)\n",
    "\n",
    "        for row in sheet.iter_rows():\n",
    "            for cell in row:\n",
    "                newSheet[cell.coordinate].value = cell.value\n",
    "                \n",
    "        filteredRanges = FilterMergedRanges(sheet, minRow = 4, minColumn = 3)\n",
    "        FillMergedCells(newSheet, filteredRanges)\n",
    "\n",
    "    \n",
    "\n",
    "    \n",
    "    newWb.save(output)\n",
    "    print(f\"Processed file saved successfully at {output}\")\n",
    "\n",
    "\n",
    "\n",
    "\n",
    "if __name__ == '__main__':\n",
    "    input = r'D:\\Finally, A study Folder\\ACM\\Projectathon 2024\\AcademicAlly\\data\\TIMETABLEJANMAY2024.xlsx'\n",
    "    output = r'D:\\Finally, A study Folder\\ACM\\Projectathon 2024\\AcademicAlly\\data\\processedTimetable.xlsx'\n",
    "\n",
    "    CopyAndProcessExcelFile(input)\n"
   ]
  }
 ],
 "metadata": {
  "kernelspec": {
   "display_name": "Python 3",
   "language": "python",
   "name": "python3"
  },
  "language_info": {
   "codemirror_mode": {
    "name": "ipython",
    "version": 3
   },
   "file_extension": ".py",
   "mimetype": "text/x-python",
   "name": "python",
   "nbconvert_exporter": "python",
   "pygments_lexer": "ipython3",
   "version": "3.12.4"
  }
 },
 "nbformat": 4,
 "nbformat_minor": 2
}
